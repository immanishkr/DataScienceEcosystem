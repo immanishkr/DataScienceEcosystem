{
 "cells": [
  {
   "cell_type": "markdown",
   "id": "21fa3d3f-dec7-4c04-a835-c7510eed2213",
   "metadata": {},
   "source": [
    "# Data Science Tools and Ecosystem\n"
   ]
  },
  {
   "cell_type": "markdown",
   "id": "0294d77f-d44c-4cf8-a6ba-ae7353e435a5",
   "metadata": {},
   "source": [
    "In this notebook, Data Science Tools and Ecosystem are summarized."
   ]
  },
  {
   "cell_type": "markdown",
   "id": "6241ecfd-2fc7-4ef0-b991-1982e6f4bdc8",
   "metadata": {},
   "source": [
    "Some of the popular languages that Data Scientists use are:\n",
    "1. python\n",
    "2. R\n",
    "3. Julia\n",
    "\n",
    "\n"
   ]
  },
  {
   "cell_type": "markdown",
   "id": "6e2e6b07-2a77-49e3-aeca-110a47ed472b",
   "metadata": {},
   "source": [
    "**Objectives:**\n",
    "1. Interactive Computing\n",
    "2. Combining Code, Text, and Visuals\n",
    "3. Data Exploration and Analysis"
   ]
  },
  {
   "cell_type": "markdown",
   "id": "e9a5d4dd-282a-41fb-8d0a-cbc750859b04",
   "metadata": {},
   "source": [
    "Some of the commonly used libraries used by Data Scientists include:\n",
    "1. pandas\n",
    "2. NumPy\n",
    "3. seaborn"
   ]
  },
  {
   "cell_type": "markdown",
   "id": "37697ed6-13e1-413a-8046-85d66fc2015c",
   "metadata": {},
   "source": [
    "| Data Science Tools        |\n",
    "|---------------------------|\n",
    "| Jupyter Notebook          |\n",
    "| RStudio                   |\n",
    "| Apache Zeppelin           |"
   ]
  },
  {
   "cell_type": "markdown",
   "id": "3e8b4161-cef0-44ed-8320-d1ab0adbe7d0",
   "metadata": {},
   "source": [
    "### Below are a few examples of evaluating arithmetic expressions in Python"
   ]
  },
  {
   "cell_type": "code",
   "execution_count": 2,
   "id": "0f681aec-ac25-4786-a6fd-21d9ceea2436",
   "metadata": {},
   "outputs": [
    {
     "data": {
      "text/plain": [
       "17"
      ]
     },
     "execution_count": 2,
     "metadata": {},
     "output_type": "execute_result"
    }
   ],
   "source": [
    "# This a simple arithmetic expression to mutiply then add integers\n",
    "\n",
    "(3*4)+5"
   ]
  },
  {
   "cell_type": "code",
   "execution_count": 3,
   "id": "0e975664-890b-4399-99b0-847cf6594e2e",
   "metadata": {},
   "outputs": [
    {
     "data": {
      "text/plain": [
       "3"
      ]
     },
     "execution_count": 3,
     "metadata": {},
     "output_type": "execute_result"
    }
   ],
   "source": [
    "min = 200\n",
    "hrs = 200//60\n",
    "hrs"
   ]
  },
  {
   "cell_type": "markdown",
   "id": "e08ce33b-a3e9-4c95-8ff7-c748514849b4",
   "metadata": {},
   "source": [
    "## Author\n",
    "Manish kumar"
   ]
  },
  {
   "cell_type": "code",
   "execution_count": null,
   "id": "e6d5684c-30a2-4fa8-a876-951d2e152081",
   "metadata": {},
   "outputs": [],
   "source": []
  }
 ],
 "metadata": {
  "kernelspec": {
   "display_name": "Python 3 (ipykernel)",
   "language": "python",
   "name": "python3"
  },
  "language_info": {
   "codemirror_mode": {
    "name": "ipython",
    "version": 3
   },
   "file_extension": ".py",
   "mimetype": "text/x-python",
   "name": "python",
   "nbconvert_exporter": "python",
   "pygments_lexer": "ipython3",
   "version": "3.12.4"
  }
 },
 "nbformat": 4,
 "nbformat_minor": 5
}
